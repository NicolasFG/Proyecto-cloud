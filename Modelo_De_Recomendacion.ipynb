{
  "nbformat": 4,
  "nbformat_minor": 0,
  "metadata": {
    "colab": {
      "provenance": []
    },
    "kernelspec": {
      "name": "python3",
      "display_name": "Python 3"
    },
    "language_info": {
      "name": "python"
    }
  },
  "cells": [
    {
      "cell_type": "markdown",
      "source": [
        "# Cargando dataset"
      ],
      "metadata": {
        "id": "IbQw4UHQVQfF"
      }
    },
    {
      "cell_type": "markdown",
      "source": [
        "## Importando librerías"
      ],
      "metadata": {
        "id": "_FnbP4CEf03r"
      }
    },
    {
      "cell_type": "code",
      "execution_count": null,
      "metadata": {
        "id": "bByO65AlVNKT"
      },
      "outputs": [],
      "source": [
        "import pandas as pd\n",
        "import matplotlib.pyplot as plt\n",
        "import seaborn as sns\n",
        "from sklearn.metrics.pairwise import cosine_similarity"
      ]
    },
    {
      "cell_type": "code",
      "source": [
        "from google.colab import drive\n",
        "drive.mount('/content/drive')"
      ],
      "metadata": {
        "id": "kf1l_W5SVb4O",
        "colab": {
          "base_uri": "https://localhost:8080/"
        },
        "outputId": "9e841314-e826-405c-bf06-9fb2ea2cee01"
      },
      "execution_count": null,
      "outputs": [
        {
          "output_type": "stream",
          "name": "stdout",
          "text": [
            "Drive already mounted at /content/drive; to attempt to forcibly remount, call drive.mount(\"/content/drive\", force_remount=True).\n"
          ]
        }
      ]
    },
    {
      "cell_type": "code",
      "source": [
        "ruta = \"/content/drive/MyDrive/Colab Notebooks/Big Data/supermercados_clean.csv\"\n",
        "data = pd.read_csv(ruta)\n",
        "print(data.shape)"
      ],
      "metadata": {
        "colab": {
          "base_uri": "https://localhost:8080/"
        },
        "id": "MqPR_FuhatBy",
        "outputId": "42f5fc42-c2ce-4c65-9bee-43d414319502"
      },
      "execution_count": null,
      "outputs": [
        {
          "output_type": "stream",
          "name": "stdout",
          "text": [
            "(2925720, 10)\n"
          ]
        }
      ]
    },
    {
      "cell_type": "markdown",
      "source": [
        "# Precálculo y almacenamiento"
      ],
      "metadata": {
        "id": "tSlJxEUdzCpd"
      }
    },
    {
      "cell_type": "code",
      "source": [
        "def precalcular_similitud(data, num_usuarios_similares = 10, num_minimo_visitas = 24):\n",
        "\n",
        "  conteo_compras = data.groupby('CodCliente').size()\n",
        "\n",
        "  #se hicieron 2 años de compras, queremos 24 visitas minimas que serían una por mes\n",
        "  clientes_frecuentes = conteo_compras[conteo_compras >= num_minimo_visitas].index\n",
        "  df_filtrado = data[data['CodCliente'].isin(clientes_frecuentes)]\n",
        "\n",
        "  # Creamos un perfil de usuario y calcular la matriz de similitud\n",
        "  perfil_usuario = pd.get_dummies(df_filtrado[['CodCliente', 'Categoria']], columns=['Categoria'])\n",
        "  perfil_usuario = perfil_usuario.groupby('CodCliente').sum()\n",
        "\n",
        "  # Calculamos la matriz de similitud entre todos los perfiles de usuario\n",
        "  similitud = cosine_similarity(perfil_usuario)\n",
        "  similitud_df = pd.DataFrame(similitud, index=perfil_usuario.index, columns=perfil_usuario.index)\n",
        "\n",
        "  # Precalculamos los usuarios similares para cada cliente\n",
        "  num_usuarios_similares = num_usuarios_similares\n",
        "  usuarios_similares_precalculados = {}\n",
        "\n",
        "  for cod_cliente in perfil_usuario.index:\n",
        "      #ordenamos las puntuaciones de mayor a menor exceptuando el primero (mismo cliente) y convertimos a lista\n",
        "      similares = similitud_df[cod_cliente].sort_values(ascending=False).index[1:num_usuarios_similares+1]\n",
        "      usuarios_similares_precalculados[cod_cliente] = similares.tolist()\n",
        "\n",
        "  # Guardamos los usuarios similares en un csv\n",
        "  pd.DataFrame.from_dict(usuarios_similares_precalculados, orient='index').to_csv('usuarios_similares_precalculados.csv')\n",
        "  return df_filtrado, perfil_usuario"
      ],
      "metadata": {
        "id": "xQk_TkQ_y5XC"
      },
      "execution_count": null,
      "outputs": []
    },
    {
      "cell_type": "markdown",
      "source": [
        "# Carga y recomendación\n"
      ],
      "metadata": {
        "id": "tiXKhJzgzFb8"
      }
    },
    {
      "cell_type": "code",
      "source": [
        "def categorias_mas_consumidas(cod_cliente, df_filtrado):\n",
        "    compras_usuario = df_filtrado[df_filtrado['CodCliente'] == cod_cliente]\n",
        "    frecuencia_categorias = compras_usuario.groupby('Categoria').size().sort_values(ascending=False)\n",
        "    return frecuencia_categorias\n"
      ],
      "metadata": {
        "id": "f6BLEKSOeN8o"
      },
      "execution_count": null,
      "outputs": []
    },
    {
      "cell_type": "code",
      "source": [
        "def cargar_usuarios_similares_y_recomendar(cod_cliente, df_filtrado, num_recomendaciones=5):\n",
        "    # Cargamos la lista de usuarios similares precalculada\n",
        "    usuarios_similares = pd.read_csv('usuarios_similares_precalculados.csv', index_col=0)\n",
        "    lista_similares = usuarios_similares.loc[cod_cliente]\n",
        "\n",
        "    # Inicializamos DataFrame para las recomendaciones y una lista para los usuarios similares\n",
        "    productos_recomendados = pd.DataFrame()\n",
        "    usuarios_que_influyen = []\n",
        "\n",
        "    # Recopilamos productos comprados por usuarios similares\n",
        "    for usuario in lista_similares:\n",
        "        productos_usuario = df_filtrado[df_filtrado['CodCliente'] == usuario].copy()\n",
        "        productos_usuario['Ganancia'] = abs(productos_usuario['PrecioUnitario'] - productos_usuario['CostoUnitario'])\n",
        "        if not productos_usuario.empty:\n",
        "            usuarios_que_influyen.append(usuario)\n",
        "\n",
        "            productos_recomendados = pd.concat([productos_recomendados, productos_usuario], ignore_index=True)\n",
        "\n",
        "    # Filtrar los productos ya comprados por el cliente\n",
        "    productos_recomendados = productos_recomendados[~productos_recomendados['descripcion'].isin(df_filtrado[df_filtrado['CodCliente'] == cod_cliente]['descripcion'])]\n",
        "\n",
        "    #ordenamos por ganancia (no se pudo) y luego por frecuencia para obtener las recomendaciones en base a estos 2\n",
        "\n",
        "    recomendaciones_finales = productos_recomendados.groupby(['Categoria', 'descripcion']).agg({'Ganancia': 'mean', 'descripcion': 'size'}).rename(columns={'descripcion': 'Frecuencia'}).sort_values(by=['Frecuencia', 'Ganancia'], ascending=[False, False]).head(num_recomendaciones)\n",
        "    #recomendaciones_finales = productos_recomendados.groupby(['Categoria', 'descripcion']).size().sort_values(ascending=False).head(num_recomendaciones)\n",
        "    return recomendaciones_finales, usuarios_que_influyen\n"
      ],
      "metadata": {
        "id": "F39MaVKUeOmP"
      },
      "execution_count": null,
      "outputs": []
    },
    {
      "cell_type": "markdown",
      "source": [
        "# Main"
      ],
      "metadata": {
        "id": "2QHBQxelIVlK"
      }
    },
    {
      "cell_type": "code",
      "source": [
        "df_filtrado, perfil_usuario = precalcular_similitud(data, 10, 24)"
      ],
      "metadata": {
        "id": "PqX7pE6sFrGN"
      },
      "execution_count": null,
      "outputs": []
    },
    {
      "cell_type": "code",
      "source": [
        "cod_cliente = perfil_usuario.index[1]\n",
        "categorias_cliente_principal = categorias_mas_consumidas(cod_cliente, df_filtrado)\n",
        "\n",
        "print(f'El Cliente {cod_cliente} consume las siguientes categorias:\\n{categorias_cliente_principal.index.tolist()[:5]}\\n')\n",
        "print(f'Recomendaciones para el cliente {cod_cliente}')\n",
        "\n",
        "recomendaciones, usuarios_influyentes = cargar_usuarios_similares_y_recomendar(cod_cliente, df_filtrado)\n",
        "\n",
        "print(recomendaciones)\n",
        "\n",
        "# Creamos un DataFrame para los usuarios similares y sus categorías más consumidas\n",
        "filas_usuarios = []\n",
        "for usuario in usuarios_influyentes:\n",
        "    categorias_usuario = categorias_mas_consumidas(usuario, df_filtrado)\n",
        "    filas_usuarios.append({'Usuario': usuario, 'Categorías Principales': categorias_usuario.index.tolist()[:4]})\n",
        "\n",
        "info_usuarios = pd.concat([pd.DataFrame([fila]) for fila in filas_usuarios], ignore_index=True)\n",
        "\n",
        "\n",
        "print(\"\\nUsuarios similares que influyeron en las recomendaciones: \\n\")\n",
        "print(info_usuarios)"
      ],
      "metadata": {
        "colab": {
          "base_uri": "https://localhost:8080/"
        },
        "id": "fjgJpIkugtVS",
        "outputId": "3d865533-bb07-4263-b3e6-8852621c2ca0"
      },
      "execution_count": null,
      "outputs": [
        {
          "output_type": "stream",
          "name": "stdout",
          "text": [
            "El Cliente 4 consume las siguientes categorias:\n",
            "['JABONES', 'ORGANIZADORES', 'VERDURAS FRESCAS', 'VEGETALES ENVASADOS', 'GOLOSINAS']\n",
            "\n",
            "Recomendaciones para el cliente 4\n",
            "                                                  Ganancia  Frecuencia\n",
            "Categoria        descripcion                                          \n",
            "VERDURAS FRESCAS ZANAHORIA POR KILO               1.347400           9\n",
            "LECHES LIQUIDAS  SV 3 LECHE PIL DESLACTOSADA UHT  3.442950           8\n",
            "VERDURAS FRESCAS ARVEJA EXTRA PELADA UN           2.845375           8\n",
            "                 PAPAS RICAPAPA ROJA GOURM        1.523388           8\n",
            "                 ZANAHORIA EXTRA PICADA UN        1.426113           8\n",
            "\n",
            "Usuarios similares que influyeron en las recomendaciones: \n",
            "\n",
            "   Usuario                             Categorías Principales\n",
            "0  2445036  [ORGANIZADORES, JABONES, VERDURAS FRESCAS, BEB...\n",
            "1  2710938  [GALLETAS, VERDURAS FRESCAS, SALSAS PREPARADAS...\n",
            "2  2362020  [JABONES, CHOCOLATES, VERDURAS FRESCAS, GALLETAS]\n",
            "3  6822202  [GALLETAS, GOLOSINAS, CHOCOLATES, SNACKS Y PIQ...\n",
            "4  3336146  [VERDURAS FRESCAS, ORGANIZADORES, LECHES LIQUI...\n",
            "5  2454217  [VERDURAS FRESCAS, JABONES, GRANOS EMPACADOS, ...\n",
            "6  4927274  [VEGETALES ENVASADOS, UNISEX NIÑOS, LECHES LIQ...\n",
            "7  2383234  [GOLOSINAS, JABONES, ENLATADOS DE MAR, VERDURA...\n",
            "8  3844898  [VERDURAS FRESCAS, SNACKS Y PIQUEOS, CHOCOLATE...\n",
            "9  6977318  [VERDURAS FRESCAS, CHOCOLATES, GOLOSINAS, JABO...\n"
          ]
        }
      ]
    }
  ]
}